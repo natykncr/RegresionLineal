{
 "cells": [
  {
   "cell_type": "markdown",
   "id": "43a8a553-ed30-4e26-8a85-ceb58ba3ca67",
   "metadata": {},
   "source": [
    "## Regresion Lineal\n",
    "\n",
    "Estudiante: Karen Natalia Martinez Romero,\n",
    "Grupo: 86"
   ]
  },
  {
   "cell_type": "code",
   "execution_count": null,
   "id": "08c57b13-da2f-46e0-b0c5-14c33ba291ef",
   "metadata": {},
   "outputs": [],
   "source": [
    "pip install numpy pandas scikit-learn matplotlib"
   ]
  },
  {
   "cell_type": "code",
   "execution_count": 5,
   "id": "3858f990-acd2-4c92-8f13-aa2ddb0fa5b6",
   "metadata": {},
   "outputs": [],
   "source": [
    "import numpy as np # Cálculo numérico y el análisis de datos\n",
    "import pandas as pd # Manejo y análisis de estructuras de datos\n",
    "import matplotlib.pyplot as plt # Creación de gráficos en dos dimensiones\n",
    "\n",
    "# Librerías de para implementar modelos de ciencia de datos\n",
    "from sklearn.linear_model import LinearRegression"
   ]
  },
  {
   "cell_type": "code",
   "execution_count": 6,
   "id": "e6f766f4-b5b7-410d-bcb4-eed92deb22de",
   "metadata": {},
   "outputs": [],
   "source": [
    "# Lectura de datos en Python y lo cargamos en la variable Datos\n",
    "car_data = pd.read_csv(r'D:\\Ingenieria de sistemas\\Semestre 7\\ANÁLISIS DE DATOS\\Tarea 3\\car_data.csv')"
   ]
  },
  {
   "cell_type": "code",
   "execution_count": 8,
   "id": "488b5f2d-9697-44b4-9a03-cd0dac12a0a1",
   "metadata": {},
   "outputs": [
    {
     "data": {
      "text/html": [
       "<div>\n",
       "<style scoped>\n",
       "    .dataframe tbody tr th:only-of-type {\n",
       "        vertical-align: middle;\n",
       "    }\n",
       "\n",
       "    .dataframe tbody tr th {\n",
       "        vertical-align: top;\n",
       "    }\n",
       "\n",
       "    .dataframe thead th {\n",
       "        text-align: right;\n",
       "    }\n",
       "</style>\n",
       "<table border=\"1\" class=\"dataframe\">\n",
       "  <thead>\n",
       "    <tr style=\"text-align: right;\">\n",
       "      <th></th>\n",
       "      <th>Car_Name</th>\n",
       "      <th>Year</th>\n",
       "      <th>Selling_Price</th>\n",
       "      <th>Present_Price</th>\n",
       "      <th>Kms_Driven</th>\n",
       "      <th>Fuel_Type</th>\n",
       "      <th>Seller_Type</th>\n",
       "      <th>Transmission</th>\n",
       "      <th>Owner</th>\n",
       "    </tr>\n",
       "  </thead>\n",
       "  <tbody>\n",
       "    <tr>\n",
       "      <th>0</th>\n",
       "      <td>ritz</td>\n",
       "      <td>2014</td>\n",
       "      <td>3.35</td>\n",
       "      <td>5.59</td>\n",
       "      <td>27000</td>\n",
       "      <td>Petrol</td>\n",
       "      <td>Dealer</td>\n",
       "      <td>Manual</td>\n",
       "      <td>0</td>\n",
       "    </tr>\n",
       "    <tr>\n",
       "      <th>1</th>\n",
       "      <td>sx4</td>\n",
       "      <td>2013</td>\n",
       "      <td>4.75</td>\n",
       "      <td>9.54</td>\n",
       "      <td>43000</td>\n",
       "      <td>Diesel</td>\n",
       "      <td>Dealer</td>\n",
       "      <td>Manual</td>\n",
       "      <td>0</td>\n",
       "    </tr>\n",
       "    <tr>\n",
       "      <th>2</th>\n",
       "      <td>ciaz</td>\n",
       "      <td>2017</td>\n",
       "      <td>7.25</td>\n",
       "      <td>9.85</td>\n",
       "      <td>6900</td>\n",
       "      <td>Petrol</td>\n",
       "      <td>Dealer</td>\n",
       "      <td>Manual</td>\n",
       "      <td>0</td>\n",
       "    </tr>\n",
       "    <tr>\n",
       "      <th>3</th>\n",
       "      <td>wagon r</td>\n",
       "      <td>2011</td>\n",
       "      <td>2.85</td>\n",
       "      <td>4.15</td>\n",
       "      <td>5200</td>\n",
       "      <td>Petrol</td>\n",
       "      <td>Dealer</td>\n",
       "      <td>Manual</td>\n",
       "      <td>0</td>\n",
       "    </tr>\n",
       "    <tr>\n",
       "      <th>4</th>\n",
       "      <td>swift</td>\n",
       "      <td>2014</td>\n",
       "      <td>4.60</td>\n",
       "      <td>6.87</td>\n",
       "      <td>42450</td>\n",
       "      <td>Diesel</td>\n",
       "      <td>Dealer</td>\n",
       "      <td>Manual</td>\n",
       "      <td>0</td>\n",
       "    </tr>\n",
       "  </tbody>\n",
       "</table>\n",
       "</div>"
      ],
      "text/plain": [
       "  Car_Name  Year  Selling_Price  Present_Price  Kms_Driven Fuel_Type  \\\n",
       "0     ritz  2014           3.35           5.59       27000    Petrol   \n",
       "1      sx4  2013           4.75           9.54       43000    Diesel   \n",
       "2     ciaz  2017           7.25           9.85        6900    Petrol   \n",
       "3  wagon r  2011           2.85           4.15        5200    Petrol   \n",
       "4    swift  2014           4.60           6.87       42450    Diesel   \n",
       "\n",
       "  Seller_Type Transmission  Owner  \n",
       "0      Dealer       Manual      0  \n",
       "1      Dealer       Manual      0  \n",
       "2      Dealer       Manual      0  \n",
       "3      Dealer       Manual      0  \n",
       "4      Dealer       Manual      0  "
      ]
     },
     "execution_count": 8,
     "metadata": {},
     "output_type": "execute_result"
    }
   ],
   "source": [
    "# Realizamos lectura de los Datos para el análisis exploratorio\n",
    "car_data.head(5)"
   ]
  },
  {
   "cell_type": "code",
   "execution_count": 12,
   "id": "1b1cd3da-3e9d-48d0-a1b3-c29643733917",
   "metadata": {},
   "outputs": [
    {
     "data": {
      "text/plain": [
       "(301, 9)"
      ]
     },
     "execution_count": 12,
     "metadata": {},
     "output_type": "execute_result"
    }
   ],
   "source": [
    "# Revisar numero de filas y columnas\n",
    "car_data.shape"
   ]
  },
  {
   "cell_type": "code",
   "execution_count": 14,
   "id": "7bb7539f-d5ef-4359-9821-53db80d46413",
   "metadata": {},
   "outputs": [
    {
     "name": "stdout",
     "output_type": "stream",
     "text": [
      "<class 'pandas.core.frame.DataFrame'>\n",
      "RangeIndex: 301 entries, 0 to 300\n",
      "Data columns (total 9 columns):\n",
      " #   Column         Non-Null Count  Dtype  \n",
      "---  ------         --------------  -----  \n",
      " 0   Car_Name       301 non-null    object \n",
      " 1   Year           301 non-null    int64  \n",
      " 2   Selling_Price  301 non-null    float64\n",
      " 3   Present_Price  301 non-null    float64\n",
      " 4   Kms_Driven     301 non-null    int64  \n",
      " 5   Fuel_Type      301 non-null    object \n",
      " 6   Seller_Type    301 non-null    object \n",
      " 7   Transmission   301 non-null    object \n",
      " 8   Owner          301 non-null    int64  \n",
      "dtypes: float64(2), int64(3), object(4)\n",
      "memory usage: 21.3+ KB\n"
     ]
    }
   ],
   "source": [
    "# Obtener información del dataset para entender \n",
    "car_data.info()"
   ]
  },
  {
   "cell_type": "code",
   "execution_count": 16,
   "id": "da2e7d59-dd1c-4739-be23-29805eb3b44b",
   "metadata": {},
   "outputs": [
    {
     "data": {
      "text/plain": [
       "Car_Name         0\n",
       "Year             0\n",
       "Selling_Price    0\n",
       "Present_Price    0\n",
       "Kms_Driven       0\n",
       "Fuel_Type        0\n",
       "Seller_Type      0\n",
       "Transmission     0\n",
       "Owner            0\n",
       "dtype: int64"
      ]
     },
     "execution_count": 16,
     "metadata": {},
     "output_type": "execute_result"
    }
   ],
   "source": [
    "#Verificar el numero de valores nulos\n",
    "car_data.isnull().sum()"
   ]
  },
  {
   "cell_type": "code",
   "execution_count": 18,
   "id": "789cb0b6-7ab3-46f4-b615-7e90b702442e",
   "metadata": {},
   "outputs": [
    {
     "name": "stdout",
     "output_type": "stream",
     "text": [
      "Fuel_Type\n",
      "Petrol    239\n",
      "Diesel     60\n",
      "CNG         2\n",
      "Name: count, dtype: int64\n",
      "Seller_Type\n",
      "Dealer        195\n",
      "Individual    106\n",
      "Name: count, dtype: int64\n",
      "Transmission\n",
      "Manual       261\n",
      "Automatic     40\n",
      "Name: count, dtype: int64\n"
     ]
    }
   ],
   "source": [
    "# Verificar la distribución de los datos categóricos\n",
    "print(car_data.Fuel_Type.value_counts())\n",
    "print(car_data.Seller_Type.value_counts())\n",
    "print(car_data.Transmission.value_counts())"
   ]
  },
  {
   "cell_type": "code",
   "execution_count": 20,
   "id": "9a6c8a5c-6640-4a5e-99f9-231eb01ffc01",
   "metadata": {},
   "outputs": [
    {
     "name": "stderr",
     "output_type": "stream",
     "text": [
      "C:\\Users\\knata\\AppData\\Local\\Temp\\ipykernel_40204\\3057170603.py:3: FutureWarning: Downcasting behavior in `replace` is deprecated and will be removed in a future version. To retain the old behavior, explicitly call `result.infer_objects(copy=False)`. To opt-in to the future behavior, set `pd.set_option('future.no_silent_downcasting', True)`\n",
      "  car_data.replace({'Fuel_Type':{'Petrol':0, 'Diesel':1, 'CNG':2}}, inplace=True)\n",
      "C:\\Users\\knata\\AppData\\Local\\Temp\\ipykernel_40204\\3057170603.py:6: FutureWarning: Downcasting behavior in `replace` is deprecated and will be removed in a future version. To retain the old behavior, explicitly call `result.infer_objects(copy=False)`. To opt-in to the future behavior, set `pd.set_option('future.no_silent_downcasting', True)`\n",
      "  car_data.replace({'Seller_Type':{'Dealer':0, 'Individual':1}}, inplace=True)\n",
      "C:\\Users\\knata\\AppData\\Local\\Temp\\ipykernel_40204\\3057170603.py:9: FutureWarning: Downcasting behavior in `replace` is deprecated and will be removed in a future version. To retain the old behavior, explicitly call `result.infer_objects(copy=False)`. To opt-in to the future behavior, set `pd.set_option('future.no_silent_downcasting', True)`\n",
      "  car_data.replace({'Transmission':{'Manual':0, 'Automatic':1}}, inplace=True)\n"
     ]
    }
   ],
   "source": [
    "# Los datos categoricos se convieten a valores numéricos, esto permite que los modelos interpreten y procesen la información de manera efectiva\n",
    "# \"Fuel_Type\"\n",
    "car_data.replace({'Fuel_Type':{'Petrol':0, 'Diesel':1, 'CNG':2}}, inplace=True)\n",
    "\n",
    "# \"Seller_Type\"\n",
    "car_data.replace({'Seller_Type':{'Dealer':0, 'Individual':1}}, inplace=True)\n",
    "\n",
    "# \"Transmission\"\n",
    "car_data.replace({'Transmission':{'Manual':0, 'Automatic':1}}, inplace=True)"
   ]
  },
  {
   "cell_type": "code",
   "execution_count": 22,
   "id": "9e2f10d7-2bd5-4ec2-9562-a81044bb5a7b",
   "metadata": {},
   "outputs": [
    {
     "data": {
      "text/html": [
       "<div>\n",
       "<style scoped>\n",
       "    .dataframe tbody tr th:only-of-type {\n",
       "        vertical-align: middle;\n",
       "    }\n",
       "\n",
       "    .dataframe tbody tr th {\n",
       "        vertical-align: top;\n",
       "    }\n",
       "\n",
       "    .dataframe thead th {\n",
       "        text-align: right;\n",
       "    }\n",
       "</style>\n",
       "<table border=\"1\" class=\"dataframe\">\n",
       "  <thead>\n",
       "    <tr style=\"text-align: right;\">\n",
       "      <th></th>\n",
       "      <th>Car_Name</th>\n",
       "      <th>Year</th>\n",
       "      <th>Selling_Price</th>\n",
       "      <th>Present_Price</th>\n",
       "      <th>Kms_Driven</th>\n",
       "      <th>Fuel_Type</th>\n",
       "      <th>Seller_Type</th>\n",
       "      <th>Transmission</th>\n",
       "      <th>Owner</th>\n",
       "    </tr>\n",
       "  </thead>\n",
       "  <tbody>\n",
       "    <tr>\n",
       "      <th>0</th>\n",
       "      <td>ritz</td>\n",
       "      <td>2014</td>\n",
       "      <td>3.35</td>\n",
       "      <td>5.59</td>\n",
       "      <td>27000</td>\n",
       "      <td>0</td>\n",
       "      <td>0</td>\n",
       "      <td>0</td>\n",
       "      <td>0</td>\n",
       "    </tr>\n",
       "    <tr>\n",
       "      <th>1</th>\n",
       "      <td>sx4</td>\n",
       "      <td>2013</td>\n",
       "      <td>4.75</td>\n",
       "      <td>9.54</td>\n",
       "      <td>43000</td>\n",
       "      <td>1</td>\n",
       "      <td>0</td>\n",
       "      <td>0</td>\n",
       "      <td>0</td>\n",
       "    </tr>\n",
       "    <tr>\n",
       "      <th>2</th>\n",
       "      <td>ciaz</td>\n",
       "      <td>2017</td>\n",
       "      <td>7.25</td>\n",
       "      <td>9.85</td>\n",
       "      <td>6900</td>\n",
       "      <td>0</td>\n",
       "      <td>0</td>\n",
       "      <td>0</td>\n",
       "      <td>0</td>\n",
       "    </tr>\n",
       "    <tr>\n",
       "      <th>3</th>\n",
       "      <td>wagon r</td>\n",
       "      <td>2011</td>\n",
       "      <td>2.85</td>\n",
       "      <td>4.15</td>\n",
       "      <td>5200</td>\n",
       "      <td>0</td>\n",
       "      <td>0</td>\n",
       "      <td>0</td>\n",
       "      <td>0</td>\n",
       "    </tr>\n",
       "    <tr>\n",
       "      <th>4</th>\n",
       "      <td>swift</td>\n",
       "      <td>2014</td>\n",
       "      <td>4.60</td>\n",
       "      <td>6.87</td>\n",
       "      <td>42450</td>\n",
       "      <td>1</td>\n",
       "      <td>0</td>\n",
       "      <td>0</td>\n",
       "      <td>0</td>\n",
       "    </tr>\n",
       "  </tbody>\n",
       "</table>\n",
       "</div>"
      ],
      "text/plain": [
       "  Car_Name  Year  Selling_Price  Present_Price  Kms_Driven  Fuel_Type  \\\n",
       "0     ritz  2014           3.35           5.59       27000          0   \n",
       "1      sx4  2013           4.75           9.54       43000          1   \n",
       "2     ciaz  2017           7.25           9.85        6900          0   \n",
       "3  wagon r  2011           2.85           4.15        5200          0   \n",
       "4    swift  2014           4.60           6.87       42450          1   \n",
       "\n",
       "   Seller_Type  Transmission  Owner  \n",
       "0            0             0      0  \n",
       "1            0             0      0  \n",
       "2            0             0      0  \n",
       "3            0             0      0  \n",
       "4            0             0      0  "
      ]
     },
     "execution_count": 22,
     "metadata": {},
     "output_type": "execute_result"
    }
   ],
   "source": [
    "# Realizamos lectura de los Datos para el análisis exploratorio\n",
    "car_data.head(5)"
   ]
  },
  {
   "cell_type": "code",
   "execution_count": 40,
   "id": "16240ef0-0549-4ed4-be44-9eed2195bdf1",
   "metadata": {},
   "outputs": [
    {
     "data": {
      "image/png": "[encoded data removed]",
      "text/plain": [
       "<Figure size 1000x500 with 3 Axes>"
      ]
     },
     "metadata": {},
     "output_type": "display_data"
    }
   ],
   "source": [
    "# Verificamos si hay outliers visualmente\n",
    "\n",
    "plt.figure(figsize=(10, 5))\n",
    "plt.subplot(1, 3, 1)\n",
    "plt.boxplot(car_data['Kms_Driven'])\n",
    "plt.title('Kms_Driven')\n",
    "plt.subplot(1, 3, 2)\n",
    "plt.boxplot(car_data['Selling_Price'])\n",
    "plt.title('Selling_Price')\n",
    "plt.subplot(1, 3, 3)\n",
    "plt.boxplot(car_data['Present_Price'])\n",
    "plt.title('Present_Price')\n",
    "plt.show()"
   ]
  },
  {
   "cell_type": "code",
   "execution_count": 46,
   "id": "6c48844a-fc33-4cbd-b24a-854403b0720f",
   "metadata": {},
   "outputs": [
    {
     "name": "stdout",
     "output_type": "stream",
     "text": [
      "(276, 9)\n"
     ]
    },
    {
     "data": {
      "image/png": "[encoded data removed]",
      "text/plain": [
       "<Figure size 1000x500 with 3 Axes>"
      ]
     },
     "metadata": {},
     "output_type": "display_data"
    }
   ],
   "source": [
    "# Definimos la función para detectar y eliminar outliers usando IQR\n",
    "def eliminar_outliers(df, columna):\n",
    "    Q1 = df[columna].quantile(0.25)\n",
    "    Q3 = df[columna].quantile(0.75)\n",
    "    IQR = Q3 - Q1\n",
    "    df_filtrado = df[(df[columna] >= Q1 - 1.5 * IQR) & (df[columna] <= Q3 + 1.5 * IQR)]\n",
    "    return df_filtrado\n",
    "\n",
    "# Aplicamos la función a cada columna de donde queremos eliminar los outliers\n",
    "car_data = eliminar_outliers(car_data, 'Kms_Driven')\n",
    "car_data = eliminar_outliers(car_data, 'Selling_Price')\n",
    "car_data = eliminar_outliers(car_data, 'Present_Price')\n",
    "\n",
    "# Visualizamos nuevamente para confirmar la eliminación de outliers\n",
    "plt.figure(figsize=(10, 5))\n",
    "plt.subplot(1, 3, 1)\n",
    "plt.boxplot(car_data['Kms_Driven'])\n",
    "plt.title('Kms_Driven')\n",
    "plt.subplot(1, 3, 2)\n",
    "plt.boxplot(car_data['Selling_Price'])\n",
    "plt.title('Selling_Price')\n",
    "plt.subplot(1, 3, 3)\n",
    "plt.boxplot(car_data['Present_Price'])\n",
    "plt.title('Present_Price')\n",
    "plt.show()"
   ]
  },
  {
   "cell_type": "code",
   "execution_count": 48,
   "id": "f7960483-e29b-4aa5-ab64-22a7ff2e11ea",
   "metadata": {},
   "outputs": [
    {
     "name": "stdout",
     "output_type": "stream",
     "text": [
      "<class 'pandas.core.frame.DataFrame'>\n",
      "Index: 276 entries, 0 to 300\n",
      "Data columns (total 9 columns):\n",
      " #   Column         Non-Null Count  Dtype  \n",
      "---  ------         --------------  -----  \n",
      " 0   Car_Name       276 non-null    object \n",
      " 1   Year           276 non-null    int64  \n",
      " 2   Selling_Price  276 non-null    float64\n",
      " 3   Present_Price  276 non-null    float64\n",
      " 4   Kms_Driven     276 non-null    int64  \n",
      " 5   Fuel_Type      276 non-null    int64  \n",
      " 6   Seller_Type    276 non-null    int64  \n",
      " 7   Transmission   276 non-null    int64  \n",
      " 8   Owner          276 non-null    int64  \n",
      "dtypes: float64(2), int64(6), object(1)\n",
      "memory usage: 21.6+ KB\n"
     ]
    }
   ],
   "source": [
    "#Verificamos el cambio de datos\n",
    "car_data.info()"
   ]
  },
  {
   "cell_type": "code",
   "execution_count": 68,
   "id": "60efb295-83fd-4510-9b6f-f045bfa310fc",
   "metadata": {},
   "outputs": [
    {
     "name": "stdout",
     "output_type": "stream",
     "text": [
      "Intercepto (β0): 0.444499995193925\n",
      "Coeficiente (Present_Price, β1): [0.55065059]\n"
     ]
    },
    {
     "data": {
      "image/png": "[encoded data removed]",
      "text/plain": [
       "<Figure size 640x480 with 1 Axes>"
      ]
     },
     "metadata": {},
     "output_type": "display_data"
    }
   ],
   "source": [
    "# Asignamos X y Y\n",
    "X = car_data[['Present_Price']]  # Variable independientes del modelo\n",
    "Y = car_data['Selling_Price']  # Variable objetivo\n",
    "\n",
    "# Creamos un modelo de regresión lineal\n",
    "modelo = LinearRegression()\n",
    "\n",
    "# Ajustamo el modelo a los datos\n",
    "modelo.fit(X, Y)\n",
    "\n",
    "# Coeficientes de la regresión\n",
    "beta_0 = modelo.intercept_  # Intercepto\n",
    "beta_1 = modelo.coef_  # Pendientes (Precio Actual)\n",
    "\n",
    "# Mostramos los coeficientes\n",
    "print(f\"Intercepto (β0): {beta_0}\")\n",
    "print(f\"Coeficiente (Present_Price, β1): {beta_1}\")\n",
    "\n",
    "# Visualizar la regresión\n",
    "plt.scatter(car_data['Present_Price'], Y, color='blue', label='Datos Reales')\n",
    "plt.plot(car_data['Present_Price'], modelo.predict(X), color='red', label='Línea de Regresión')\n",
    "plt.title('Regresión Lineal: Precio Venta vs Precio Actual')\n",
    "plt.xlabel('Precio Actual')\n",
    "plt.ylabel('Precio Venta')\n",
    "plt.legend()\n",
    "plt.show()"
   ]
  },
  {
   "cell_type": "code",
   "execution_count": 93,
   "id": "c3eadbc4-eadc-4fc7-b859-7833eceb1bfe",
   "metadata": {},
   "outputs": [
    {
     "name": "stdout",
     "output_type": "stream",
     "text": [
      "\n",
      "Predicciones:\n",
      "Coeficiente (β1): 0.5506505881\n",
      "Predicción 1 para (Precio Actual: 0): 0.4445\n",
      "Predicción 2 para (Precio Actual: 1): 0.9952\n",
      "Predicción 3 para (Precio Actual: 10): 5.9510\n",
      "Predicción 4 para (Precio Actual: 20): 11.4575\n",
      "Predicción 5 para (Precio Actual: 100): 55.5096\n"
     ]
    },
    {
     "name": "stderr",
     "output_type": "stream",
     "text": [
      "C:\\Users\\knata\\anaconda3\\Lib\\site-packages\\sklearn\\base.py:493: UserWarning: X does not have valid feature names, but LinearRegression was fitted with feature names\n",
      "  warnings.warn(\n"
     ]
    }
   ],
   "source": [
    "# Predecir precios para dos nuevos valores\n",
    "nuevo_X = np.array([[0], [1], [10], [20], [100]])  # Nuevos valores de Precio Actual\n",
    "predicciones = modelo.predict(nuevo_X)\n",
    "\n",
    "# Mostrar las predicciones\n",
    "print(\"\\nPredicciones:\")\n",
    "print(f\"Coeficiente (β1): {modelo.coef_[0]:.10f}\")\n",
    "for i, pred in enumerate(predicciones):\n",
    "    print(f\"Predicción {i+1} para (Precio Actual: {nuevo_X[i][0]}): {pred:.4f}\")"
   ]
  },
  {
   "cell_type": "code",
   "execution_count": 114,
   "id": "b8ec6c66-8732-440e-90bc-1494d7b04278",
   "metadata": {},
   "outputs": [
    {
     "name": "stdout",
     "output_type": "stream",
     "text": [
      "Intercepto (β0): -651.2117528815901\n",
      "Coeficiente (Present_Price, β1): 0.5724099131749417\n",
      "Coeficiente (Kms_Driven, β2): -7.347035107853508e-06\n",
      "Coeficiente (Year, β3): 0.32365558415965107\n"
     ]
    }
   ],
   "source": [
    "# Regresión Lineal Múltiple\n",
    "# Asignamos X y Y\n",
    "X = car_data[['Present_Price', 'Kms_Driven', 'Year']]  # Variables independientes del modelo\n",
    "Y = car_data['Selling_Price']  # Variable objetivo\n",
    "\n",
    "# Creamos un modelo de regresión lineal\n",
    "modelo = LinearRegression()\n",
    "\n",
    "# Ajustamos el modelo a los datos\n",
    "modelo.fit(X, Y)\n",
    "\n",
    "# Coeficientes de la regresión\n",
    "beta_0 = modelo.intercept_  # Intercepto\n",
    "beta_1, beta_2, beta_3 = modelo.coef_  # Pendientes\n",
    "\n",
    "# Mostramos los coeficientes\n",
    "print(f\"Intercepto (β0): {beta_0}\")\n",
    "print(f\"Coeficiente (Present_Price, β1): {beta_1}\")\n",
    "print(f\"Coeficiente (Kms_Driven, β2): {beta_2}\")\n",
    "print(f\"Coeficiente (Year, β3): {beta_3}\")"
   ]
  },
  {
   "cell_type": "code",
   "execution_count": 132,
   "id": "2c3331e6-8f1d-4587-ae38-89b69c8c87ae",
   "metadata": {},
   "outputs": [
    {
     "name": "stdout",
     "output_type": "stream",
     "text": [
      "Intercepto (β0): -651.2117528815901\n",
      "Coeficiente (Present_Price, β1): 0.5724099131749417\n",
      "Coeficiente (Kms_Driven, β2): -7.347035107853508e-06\n",
      "Coeficiente (Year, β3): 0.32365558415965107\n",
      "\n",
      "Predicciones:\n",
      "Predicción 1 para (Present_Price: 0, Kms_Driven: 0, Year: 0): -651.2118\n",
      "Predicción 2 para (Present_Price: 0, Kms_Driven: 0, Year: 2024): 3.8671\n",
      "Predicción 3 para (Present_Price: 0, Kms_Driven: 1000, Year: 2024): 3.8598\n",
      "Predicción 4 para (Present_Price: 1, Kms_Driven: 0, Year: 2024): 4.4396\n",
      "Predicción 5 para (Present_Price: 0, Kms_Driven: 0, Year: 2023): 3.5435\n",
      "Predicción 6 para (Present_Price: 1, Kms_Driven: 1000, Year: 2023): 4.1086\n",
      "\n",
      "Comparación con respecto a la Predicción 2:\n",
      "Diferencia de Predicción 1 con respecto a la Predicción 2: -655.0789\n",
      "Diferencia de Predicción 3 con respecto a la Predicción 2: -0.0073\n",
      "Diferencia de Predicción 4 con respecto a la Predicción 2: 0.5724\n",
      "Diferencia de Predicción 5 con respecto a la Predicción 2: -0.3237\n",
      "Diferencia de Predicción 6 con respecto a la Predicción 2: 0.2414\n"
     ]
    },
    {
     "name": "stderr",
     "output_type": "stream",
     "text": [
      "C:\\Users\\knata\\anaconda3\\Lib\\site-packages\\sklearn\\base.py:493: UserWarning: X does not have valid feature names, but LinearRegression was fitted with feature names\n",
      "  warnings.warn(\n"
     ]
    }
   ],
   "source": [
    "# Predecir precios para varios nuevos valores\n",
    "nuevo_X = np.array([[0, 0, 0], [0, 0, 2024], [0, 1000, 2024], [1, 0, 2024], [0, 0, 2023], [1, 1000, 2023]])  # Nuevos valores para la predicción\n",
    "predicciones = modelo.predict(nuevo_X)\n",
    "\n",
    "# Mostrar los coeficientes\n",
    "print(f\"Intercepto (β0): {beta_0}\")\n",
    "print(f\"Coeficiente (Present_Price, β1): {beta_1}\")\n",
    "print(f\"Coeficiente (Kms_Driven, β2): {beta_2}\")\n",
    "print(f\"Coeficiente (Year, β3): {beta_3}\")\n",
    "print(\"\\nPredicciones:\")\n",
    "\n",
    "# Mostrar las predicciones con los valores de las variables independientes\n",
    "for i, pred in enumerate(predicciones):\n",
    "    print(f\"Predicción {i+1} para (Present_Price: {nuevo_X[i][0]}, Kms_Driven: {nuevo_X[i][1]}, Year: {nuevo_X[i][2]}): {pred:.4f}\")\n",
    "\n",
    "# Comparación de cada predicción con respecto a la Predicción 2\n",
    "print(\"\\nComparación con respecto a la Predicción 2:\")\n",
    "segunda_prediccion = predicciones[1]\n",
    "for i, pred in enumerate(predicciones):\n",
    "    if i != 1:  # No comparar la predicción 2 consigo misma\n",
    "        cambio = pred - segunda_prediccion\n",
    "        print(f\"Diferencia de Predicción {i+1} con respecto a la Predicción 2: {cambio:.4f}\")"
   ]
  },
  {
   "cell_type": "code",
   "execution_count": 136,
   "id": "5f205c6e-e2fc-4c8e-ad10-efee9695372c",
   "metadata": {},
   "outputs": [
    {
     "name": "stdout",
     "output_type": "stream",
     "text": [
      "R² (Coeficiente de determinación): 0.8402717897755113\n",
      "Error Absoluto Medio (MAE): 0.8847384288561281\n",
      "Error Cuadrático Medio (MSE): 1.497882020860116\n",
      "Raíz del Error Cuadrático Medio (RMSE): 1.223879904590363\n"
     ]
    }
   ],
   "source": [
    "from sklearn.metrics import r2_score, mean_absolute_error, mean_squared_error\n",
    "\n",
    "# Variables independientes (X) y variable objetivo (Y)\n",
    "X = car_data[['Present_Price', 'Kms_Driven', 'Year']]\n",
    "Y = car_data['Selling_Price']\n",
    "\n",
    "# Definir el modelo de regresión lineal\n",
    "modelo = LinearRegression()\n",
    "\n",
    "# Entrenar el modelo con los datos\n",
    "modelo.fit(X, Y)\n",
    "\n",
    "# Realizar predicciones en los datos de entrenamiento\n",
    "predicciones = modelo.predict(X)\n",
    "\n",
    "# Calcular las métricas de evaluación\n",
    "r2 = r2_score(Y, predicciones)                     # Coeficiente de determinación R²\n",
    "mae = mean_absolute_error(Y, predicciones)         # Error Absoluto Medio (MAE)\n",
    "mse = mean_squared_error(Y, predicciones)          # Error Cuadrático Medio (MSE)\n",
    "rmse = np.sqrt(mse)                                # Raíz del Error Cuadrático Medio (RMSE)\n",
    "\n",
    "# Imprimir las métricas\n",
    "print(f\"R² (Coeficiente de determinación): {r2}\")\n",
    "print(f\"Error Absoluto Medio (MAE): {mae}\")\n",
    "print(f\"Error Cuadrático Medio (MSE): {mse}\")\n",
    "print(f\"Raíz del Error Cuadrático Medio (RMSE): {rmse}\")"
   ]
  },
  {
   "cell_type": "code",
   "execution_count": null,
   "id": "a03a2100-d9bb-4288-89da-8aace6529970",
   "metadata": {},
   "outputs": [],
   "source": []
  }
 ],
 "metadata": {
  "kernelspec": {
   "display_name": "Python 3 (ipykernel)",
   "language": "python",
   "name": "python3"
  },
  "language_info": {
   "codemirror_mode": {
    "name": "ipython",
    "version": 3
   },
   "file_extension": ".py",
   "mimetype": "text/x-python",
   "name": "python",
   "nbconvert_exporter": "python",
   "pygments_lexer": "ipython3",
   "version": "3.12.7"
  }
 },
 "nbformat": 4,
 "nbformat_minor": 5
}
